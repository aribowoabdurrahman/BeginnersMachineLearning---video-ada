{
  "nbformat": 4,
  "nbformat_minor": 0,
  "metadata": {
    "colab": {
      "provenance": [],
      "authorship_tag": "ABX9TyMTjmXEWj1deep646LxPqV5",
      "include_colab_link": true
    },
    "kernelspec": {
      "name": "ir",
      "display_name": "R"
    },
    "language_info": {
      "name": "R"
    }
  },
  "cells": [
    {
      "cell_type": "markdown",
      "metadata": {
        "id": "view-in-github",
        "colab_type": "text"
      },
      "source": [
        "<a href=\"https://colab.research.google.com/github/aribowoabdurrahman/BeginnersMachineLearning---video-ada/blob/main/Credit_Analysis.ipynb\" target=\"_parent\"><img src=\"https://colab.research.google.com/assets/colab-badge.svg\" alt=\"Open In Colab\"/></a>"
      ]
    },
    {
      "cell_type": "markdown",
      "source": [
        "# ANALISA KREDIT DALAM R"
      ],
      "metadata": {
        "id": "-PAtNqa8dgyQ"
      }
    },
    {
      "cell_type": "markdown",
      "source": [
        " Untuk menjadi class variable yang digunakan pada algoritma C5.0, maka in perlu dikonversi menjadi factor. \n",
        " "
      ],
      "metadata": {
        "id": "bjsT2YuTe3EK"
      }
    },
    {
      "cell_type": "code",
      "source": [
        "install.packages(\"openxlsx\", dependencies = TRUE)"
      ],
      "metadata": {
        "colab": {
          "base_uri": "https://localhost:8080/"
        },
        "id": "mZXGmInqfOUg",
        "outputId": "1cc91dfb-ac6d-4464-8ea5-9adff18a5ed0"
      },
      "execution_count": 5,
      "outputs": [
        {
          "output_type": "stream",
          "name": "stderr",
          "text": [
            "Installing package into ‘/usr/local/lib/R/site-library’\n",
            "(as ‘lib’ is unspecified)\n",
            "\n",
            "also installing the dependency ‘Rcpp’\n",
            "\n",
            "\n"
          ]
        }
      ]
    },
    {
      "cell_type": "code",
      "execution_count": 6,
      "metadata": {
        "colab": {
          "base_uri": "https://localhost:8080/"
        },
        "id": "JaOfns4DdIc0",
        "outputId": "c95af20f-49d2-476d-ea60-1b713683d9fe"
      },
      "outputs": [
        {
          "output_type": "stream",
          "name": "stdout",
          "text": [
            "'data.frame':\t900 obs. of  7 variables:\n",
            " $ kode_kontrak           : chr  \"AGR-000001\" \"AGR-000011\" \"AGR-000030\" \"AGR-000043\" ...\n",
            " $ pendapatan_setahun_juta: num  295 271 159 210 165 220 70 88 163 100 ...\n",
            " $ kpr_aktif              : chr  \"YA\" \"YA\" \"TIDAK\" \"YA\" ...\n",
            " $ durasi_pinjaman_bulan  : num  48 36 12 12 36 24 36 48 48 36 ...\n",
            " $ jumlah_tanggungan      : num  5 5 0 3 0 5 3 3 5 6 ...\n",
            " $ rata_rata_overdue      : chr  \"61 - 90 days\" \"61 - 90 days\" \"0 - 30 days\" \"46 - 60 days\" ...\n",
            " $ risk_rating            : num  4 4 1 3 2 1 2 2 2 2 ...\n",
            "'data.frame':\t900 obs. of  7 variables:\n",
            " $ kode_kontrak           : chr  \"AGR-000001\" \"AGR-000011\" \"AGR-000030\" \"AGR-000043\" ...\n",
            " $ pendapatan_setahun_juta: num  295 271 159 210 165 220 70 88 163 100 ...\n",
            " $ kpr_aktif              : chr  \"YA\" \"YA\" \"TIDAK\" \"YA\" ...\n",
            " $ durasi_pinjaman_bulan  : num  48 36 12 12 36 24 36 48 48 36 ...\n",
            " $ jumlah_tanggungan      : num  5 5 0 3 0 5 3 3 5 6 ...\n",
            " $ rata_rata_overdue      : chr  \"61 - 90 days\" \"61 - 90 days\" \"0 - 30 days\" \"46 - 60 days\" ...\n",
            " $ risk_rating            : Factor w/ 5 levels \"1\",\"2\",\"3\",\"4\",..: 4 4 1 3 2 1 2 2 2 2 ...\n"
          ]
        }
      ],
      "source": [
        "library(\"openxlsx\")\n",
        "\n",
        "#Mempersiapkan data\n",
        "dataCreditRating <- read.xlsx(xlsxFile = \"https://storage.googleapis.com/dqlab-dataset/credit_scoring_dqlab.xlsx\")\n",
        "str(dataCreditRating)\n",
        "#Melakukan konversi kolom risk_rating menjadi factor\n",
        "dataCreditRating$risk_rating <-as.factor(dataCreditRating$risk_rating)\n",
        "#Melihat struktur setelah konversi\n",
        "str(dataCreditRating)"
      ]
    },
    {
      "cell_type": "markdown",
      "source": [
        "# Data Preparation untuk Input Variables\n",
        "\n",
        "**Tidak semua input variable yang perlu kita gunakan**, apalagi yang sangat berkaitan sangat erat dengan risk_rating, yaitu rata_rata_overdue. Input variable ini akan kita buang. Proses ini disebut sebagai feature selection.\n",
        "\n",
        "Karena kita gunakan data frame sebagai tipe data input kita untuk C5.0, maka field-field yang ingin kita gunakan bisa kita kita masukkan sebagai vector sebagai filter.\n",
        "\n",
        "**Berikut adalah perintah untuk membuat vector nama kolom yang kita butuhkan saat ini, yaitu durasi_pinjaman_bulan dan jumlah_tanggungan**. Hasil filtering ini kita simpan ke variable baru bernama datafeed, dan perintah terakhir kita gunakan melihat struktur variable ini."
      ],
      "metadata": {
        "id": "-nHkVtFMgrMT"
      }
    },
    {
      "cell_type": "code",
      "source": [
        "#Menghilangkan beberapa variable input dari dataset \n",
        "input_columns <- c(\"durasi_pinjaman_bulan\", \"jumlah_tanggungan\")\n",
        "datafeed <- dataCreditRating[ , input_columns ]\n",
        "str(datafeed)"
      ],
      "metadata": {
        "colab": {
          "base_uri": "https://localhost:8080/"
        },
        "id": "PerNVBN2g3LR",
        "outputId": "e8b19fce-82fc-4646-f65d-8f304e49287b"
      },
      "execution_count": 7,
      "outputs": [
        {
          "output_type": "stream",
          "name": "stdout",
          "text": [
            "'data.frame':\t900 obs. of  2 variables:\n",
            " $ durasi_pinjaman_bulan: num  48 36 12 12 36 24 36 48 48 36 ...\n",
            " $ jumlah_tanggungan    : num  5 5 0 3 0 5 3 3 5 6 ...\n"
          ]
        }
      ]
    },
    {
      "cell_type": "markdown",
      "source": [
        "# Mempersiapkan Training dan Testing Set\n",
        "\n",
        "Training dan testing set kita akan mengambil dari variable data frame bernama datafeed yang telah kita persiapkan pada praktek sebelumnya. Jumlah baris dataset kita adalah 900, dimana kita akan mengambil 800 baris secara acak sebagai training set dan sisa 100 sebagai testing set."
      ],
      "metadata": {
        "id": "DSeAByAThGVo"
      }
    },
    {
      "cell_type": "code",
      "source": [
        "# Langkah pertama adalah menyusun index untuk training set\n",
        "set.seed(100)\n",
        "indeks_training_set <- sample(900, 800)"
      ],
      "metadata": {
        "id": "MIiL7u0QhKP5"
      },
      "execution_count": 8,
      "outputs": []
    }
  ]
}